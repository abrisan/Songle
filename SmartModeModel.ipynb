{
 "cells": [
  {
   "cell_type": "code",
   "execution_count": 22,
   "metadata": {
    "collapsed": true
   },
   "outputs": [],
   "source": [
    "sos_lyrics = '''\n",
    "Where are those happy days, they seem so hard to find\n",
    "I tried to reach for you, but you have closed your mind\n",
    "Whatever happened to our love?\n",
    "I wish I understood\n",
    "It used to be so nice, it used to be so good\n",
    "So when you're near me, darling can't you hear me\n",
    "S.O.S.\n",
    "The love you gave me, nothing else can save me\n",
    "S.O.S.\n",
    "When you're gone\n",
    "How can I even try to go on?\n",
    "When you're gone\n",
    "Though I try how can I carry on?\n",
    "You seem so far away though you are standing near\n",
    "You made me feel alive, but something died I fear\n",
    "I really tried to make it out\n",
    "I wish I understood\n",
    "What happened to our love, it used to be so good\n",
    "So when you're near me, darling can't you hear me\n",
    "S.O.S.\n",
    "The love you gave me, nothing else can save me\n",
    "S.O.S.\n",
    "When you're gone\n",
    "How can I even try to go on?\n",
    "When you're gone\n",
    "Though I try how can I carry on?\n",
    "So when you're near me, darling can't you hear me\n",
    "S.O.S.\n",
    "And the love you gave me, nothing else can save me\n",
    "S.O.S.\n",
    "When you're gone\n",
    "How can I even try to go on?\n",
    "When you're gone\n",
    "Though I try how can I carry on?\n",
    "When you're gone\n",
    "How can I even try to go on?\n",
    "When you're gone\n",
    "Though I try how can I carry on?\n",
    "'''"
   ]
  },
  {
   "cell_type": "code",
   "execution_count": 17,
   "metadata": {
    "collapsed": true
   },
   "outputs": [],
   "source": [
    "only_letters = lambda x: str(filter(lambda y: y.isalpha(), x))\n",
    "tolower = lambda x: x.lower()"
   ]
  },
  {
   "cell_type": "code",
   "execution_count": 25,
   "metadata": {},
   "outputs": [],
   "source": [
    "words = sos_lyrics.replace('\\n', ' ').split()\n",
    "words = map(lambda x: filter(only_letters, x), words)\n",
    "words = map(tolower, words)"
   ]
  },
  {
   "cell_type": "code",
   "execution_count": 26,
   "metadata": {},
   "outputs": [],
   "source": [
    "from collections import Counter\n",
    "word_counts = Counter(words)"
   ]
  },
  {
   "cell_type": "code",
   "execution_count": 45,
   "metadata": {},
   "outputs": [],
   "source": [
    "import nltk\n",
    "nltk_webtext = dict(Counter(nltk.corpus.webtext.words()))"
   ]
  },
  {
   "cell_type": "code",
   "execution_count": 54,
   "metadata": {},
   "outputs": [],
   "source": [
    "rel_freqs = {}\n",
    "nltk_webtext = {filter(only_letters, x.encode('ascii', errors='ignore')).lower(): nltk_webtext[x] for x in nltk_webtext}"
   ]
  },
  {
   "cell_type": "code",
   "execution_count": 83,
   "metadata": {},
   "outputs": [
    {
     "name": "stdout",
     "output_type": "stream",
     "text": [
      "131800\n",
      "7.58725341426e-05\n",
      "0.000303490136571\n",
      "6.82852807284e-05\n",
      "7.58725341426e-06\n",
      "1.51745068285e-05\n",
      "7.58725341426e-05\n",
      "8.34597875569e-05\n",
      "0.0197647951442\n",
      "0.000326251896813\n",
      "0.000333839150228\n",
      "3.03490136571e-05\n",
      "6.82852807284e-05\n",
      "0.00370257966616\n",
      "0.00539453717754\n",
      "2.27617602428e-05\n",
      "0.00056904400607\n",
      "2.27617602428e-05\n",
      "0.000493171471927\n",
      "0.000629742033384\n",
      "0.000326251896813\n",
      "1.51745068285e-05\n",
      "0.000614567526555\n",
      "0.00204855842185\n",
      "1.51745068285e-05\n",
      "0.000485584218513\n",
      "0.00040971168437\n",
      "0.00128224582701\n",
      "0.00104704097117\n",
      "0.00157056145675\n",
      "0.000121396054628\n",
      "7.58725341426e-06\n",
      "4.55235204856e-05\n",
      "0.000303490136571\n",
      "0.000523520485584\n",
      "0.00985584218513\n",
      "0.000637329286798\n",
      "0.000280728376328\n",
      "9.86342943854e-05\n",
      "0.00101669195751\n",
      "0.000303490136571\n",
      "0.000614567526555\n",
      "7.58725341426e-06\n",
      "0.0001062215478\n",
      "0.00233687405159\n",
      "0.000447647951442\n",
      "0.000599393019727\n",
      "8.34597875569e-05\n",
      "0.00474962063733\n",
      "0.000144157814871\n",
      "1.51745068285e-05\n",
      "0.00106980273141\n",
      "0.00990136570561\n",
      "0.0244916540212\n",
      "0.000910470409712\n",
      "1.51745068285e-05\n",
      "0.000386949924127\n",
      "2.27617602428e-05\n",
      "3.79362670713e-05\n",
      "0.000189681335357\n",
      "0.00421851289833\n",
      "0.00186646433991\n",
      "6.06980273141e-05\n",
      "0.000333839150228\n",
      "0.00103186646434\n",
      "0.00035660091047\n",
      "0.00191957511381\n"
     ]
    }
   ],
   "source": [
    "nltk_sum = sum(nltk_webtext.values())\n",
    "print(nltk_sum)\n",
    "for key in word_counts:\n",
    "    if key in nltk_webtext:\n",
    "        rel_freqs[key] = float(nltk_webtext[key]) / nltk_sum\n",
    "        print(rel_freqs[key])\n",
    "    else:\n",
    "        rel_freqs[key] = 0.000000001"
   ]
  },
  {
   "cell_type": "code",
   "execution_count": 81,
   "metadata": {},
   "outputs": [
    {
     "name": "stdout",
     "output_type": "stream",
     "text": [
      "1.46288210304e-15\n",
      "245.848712149\n"
     ]
    },
    {
     "data": {
      "image/png": "[encoded data removed]",
      "text/plain": [
       "<matplotlib.figure.Figure at 0x10f3c8310>"
      ]
     },
     "metadata": {},
     "output_type": "display_data"
    }
   ],
   "source": [
    "import numpy as np\n",
    "devs = np.std(np.array(rel_freqs.values()))\n",
    "mean = np.mean(np.array(rel_freqs.values()))\n",
    "print(mean)\n",
    "print(devs)\n",
    "import seaborn as sns\n",
    "import matplotlib.pyplot as plt\n",
    "sns.distplot(rel_freqs.values())\n",
    "plt.show()"
   ]
  },
  {
   "cell_type": "code",
   "execution_count": 84,
   "metadata": {},
   "outputs": [],
   "source": [
    "for key in rel_freqs:\n",
    "    rel_freqs[key] = (rel_freqs[key] - mean) / devs"
   ]
  },
  {
   "cell_type": "code",
   "execution_count": 87,
   "metadata": {},
   "outputs": [
    {
     "data": {
      "image/png": "[encoded data removed]",
      "text/plain": [
       "<matplotlib.figure.Figure at 0x128d41ed0>"
      ]
     },
     "metadata": {},
     "output_type": "display_data"
    }
   ],
   "source": [
    "rel_freqs\n",
    "sns.distplot(rel_freqs.values())\n",
    "plt.show()"
   ]
  },
  {
   "cell_type": "code",
   "execution_count": 88,
   "metadata": {
    "collapsed": true
   },
   "outputs": [],
   "source": [
    "importance = {}\n",
    "for key in word_counts:\n",
    "    importance[key] = word_counts[key] / rel_freqs[key]"
   ]
  },
  {
   "cell_type": "code",
   "execution_count": 95,
   "metadata": {},
   "outputs": [],
   "source": [
    "importance_vals = importance.values()\n",
    "min_val = min(importance_vals)\n",
    "max_val = max(importance_vals)\n",
    "for key in importance:\n",
    "    importance[key] = ((importance[key] - min_val) / (max_val - min_val)) * 100000"
   ]
  },
  {
   "cell_type": "code",
   "execution_count": 96,
   "metadata": {
    "scrolled": true
   },
   "outputs": [
    {
     "data": {
      "text/plain": [
       "{'alive': 0.10724025826842219,\n",
       " 'and': 0.11813280450132188,\n",
       " 'are': 0.7971015197094361,\n",
       " 'away': 0.0069972603297615071,\n",
       " 'be': 0.27481789261674805,\n",
       " 'but': 0.006095186107601144,\n",
       " 'can': 0.051891954239630562,\n",
       " 'cant': 0.39770815780836843,\n",
       " 'carry': 0.29785981733885025,\n",
       " 'closed': 0.01567972471802152,\n",
       " 'darling': 1.7955849244770778,\n",
       " 'days': 0.39770815782548097,\n",
       " 'died': 0.028269298081041627,\n",
       " 'else': 0.059239207072649895,\n",
       " 'even': 0.016065612024128938,\n",
       " 'far': 1.1964948817474035,\n",
       " 'fear': 1.1964948817474035,\n",
       " 'feel': 0.59740483878670991,\n",
       " 'find': 1.1964948817474035,\n",
       " 'for': 0.020503316044843119,\n",
       " 'gave': 1.1964948815933913,\n",
       " 'go': 0.072048955054043504,\n",
       " 'gone': 0.23795081305765264,\n",
       " 'good': 0.00322537006273614,\n",
       " 'happened': 0.052777527104258003,\n",
       " 'happy': 0.030698041497771784,\n",
       " 'hard': 0.11813280450132188,\n",
       " 'have': 0.014290530415898289,\n",
       " 'hear': 0.043815305520428928,\n",
       " 'how': 0.05503337987412818,\n",
       " 'i': 11.381025610000025,\n",
       " 'it': 0.00015461181189036394,\n",
       " 'love': 0.66397039905293032,\n",
       " 'made': 0.0082996299879989615,\n",
       " 'make': 0.023807989251733726,\n",
       " 'me': 0.010250689514303895,\n",
       " 'mind': 0.10724025826842219,\n",
       " 'near': 0.1900236096349818,\n",
       " 'nice': 0.017036359778689336,\n",
       " 'nothing': 0.18750112524473916,\n",
       " 'on': 0.0012842633159369894,\n",
       " 'our': 0.027186605232553292,\n",
       " 'out': 0.0,\n",
       " 'reach': 0.083899087769480088,\n",
       " 'really': 0.013107142677053058,\n",
       " 'save': 0.041106941855011805,\n",
       " 'seem': 0.054044102247583048,\n",
       " 'so': 0.015554797172824675,\n",
       " 'something': 0.0030506856078331606,\n",
       " 'sos': 54545.453779452699,\n",
       " 'standing': 0.025546161522891887,\n",
       " 'the': 0.4476323280429268,\n",
       " 'they': 0.00022882163733283455,\n",
       " 'those': 0.0068125270449051747,\n",
       " 'though': 0.072276529619162241,\n",
       " 'to': 2.3946749671682497,\n",
       " 'tried': 0.058223800220557488,\n",
       " 'try': 1.9154029329352265,\n",
       " 'understood': 0.59740483875783268,\n",
       " 'used': 0.025139723230553739,\n",
       " 'what': 0.59740483878670991,\n",
       " 'whatever': 0.026179449094554403,\n",
       " 'when': 0.061986201455224925,\n",
       " 'where': 0.0071249436295886858,\n",
       " 'wish': 0.04530225027797239,\n",
       " 'you': 0.0084610476284583281,\n",
       " 'your': 0.59740483878670991,\n",
       " 'youre': 100000.0}"
      ]
     },
     "execution_count": 96,
     "metadata": {},
     "output_type": "execute_result"
    }
   ],
   "source": [
    "importance"
   ]
  },
  {
   "cell_type": "code",
   "execution_count": null,
   "metadata": {
    "collapsed": true
   },
   "outputs": [],
   "source": []
  }
 ],
 "metadata": {
  "kernelspec": {
   "display_name": "Python 2",
   "language": "python",
   "name": "python2"
  },
  "language_info": {
   "codemirror_mode": {
    "name": "ipython",
    "version": 2
   },
   "file_extension": ".py",
   "mimetype": "text/x-python",
   "name": "python",
   "nbconvert_exporter": "python",
   "pygments_lexer": "ipython2",
   "version": "2.7.13"
  }
 },
 "nbformat": 4,
 "nbformat_minor": 2
}
